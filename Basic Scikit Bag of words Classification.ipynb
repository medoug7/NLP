{
 "cells": [
  {
   "cell_type": "code",
   "execution_count": 1,
   "metadata": {},
   "outputs": [],
   "source": [
    "import json\n",
    "import numpy as np\n",
    "from sklearn.metrics import f1_score\n",
    "import random as rd"
   ]
  },
  {
   "cell_type": "code",
   "execution_count": 2,
   "metadata": {},
   "outputs": [],
   "source": [
    "class sentiment:\n",
    "    Neg=\"Negative\"\n",
    "    Pos=\"Positive\"\n",
    "\n",
    "class Review:\n",
    "    def __init__(self,text,score):\n",
    "        self.text=text\n",
    "        self.score=score\n",
    "        self.sentim=self.get_sentim()\n",
    "        \n",
    "    def get_sentim(self):\n",
    "        if self.score<3:\n",
    "            return sentiment.Neg\n",
    "        else:\n",
    "            return sentiment.Pos\n",
    "        \n",
    "class RevCount:\n",
    "    def __init__(self,reviews):\n",
    "        self.reviews=reviews\n",
    "        \n",
    "    def even_dist(self):\n",
    "        neg= list(filter(lambda x: x.sentim==sentiment.Neg, self.reviews))\n",
    "        pos= list(filter(lambda x: x.sentim==sentiment.Pos, self.reviews))\n",
    "        \n",
    "        sb=len(neg)\n",
    "        pos_n=pos[:sb]\n",
    "        \n",
    "        self.reviews = pos_n + neg\n",
    "        rd.shuffle(self.reviews)\n",
    "        "
   ]
  },
  {
   "cell_type": "markdown",
   "metadata": {},
   "source": [
    "# Get Data"
   ]
  },
  {
   "cell_type": "code",
   "execution_count": 3,
   "metadata": {},
   "outputs": [
    {
     "data": {
      "text/plain": [
       "10000"
      ]
     },
     "execution_count": 3,
     "metadata": {},
     "output_type": "execute_result"
    }
   ],
   "source": [
    "#abrir os dados no formato .json\n",
    "\n",
    "reviews=[]\n",
    "with open('./Data Science/Books_small.json') as f:\n",
    "    for line in f:\n",
    "        #print(line)\n",
    "        review=json.loads(line)\n",
    "        reviews.append(Review(review['reviewText'],review['overall']))\n",
    "\n",
    "len(reviews)"
   ]
  },
  {
   "cell_type": "code",
   "execution_count": 4,
   "metadata": {},
   "outputs": [
    {
     "name": "stdout",
     "output_type": "stream",
     "text": [
      "It was a decent read.. typical story line. Nothing unsavory as so many are. Just a slice of life, plausible. \n",
      " 3.0 - Positive\n"
     ]
    }
   ],
   "source": [
    "r=reviews[4]\n",
    "print(r.text,'\\n',r.score,'-',r.sentim)"
   ]
  },
  {
   "cell_type": "markdown",
   "metadata": {},
   "source": [
    "# Prep Data"
   ]
  },
  {
   "cell_type": "code",
   "execution_count": 5,
   "metadata": {},
   "outputs": [
    {
     "name": "stdout",
     "output_type": "stream",
     "text": [
      "From 9500\n",
      "Pos: 8880\n",
      "Neg: 620\n"
     ]
    }
   ],
   "source": [
    "from sklearn.model_selection import train_test_split\n",
    "\n",
    "#divide grupo de treino e de teste\n",
    "train,test=train_test_split(reviews, test_size=0.05,random_state=42)\n",
    "\n",
    "\n",
    "train_x=[x.text for x in train]\n",
    "train_y=[x.sentim for x in train]\n",
    "\n",
    "test_x=[x.text for x in test]\n",
    "test_y=[x.sentim for x in test]\n",
    "\n",
    "\n",
    "print('From',len(train_y))\n",
    "print('Pos:',train_y.count(sentiment.Pos))\n",
    "print('Neg:',train_y.count(sentiment.Neg))"
   ]
  },
  {
   "cell_type": "code",
   "execution_count": 6,
   "metadata": {},
   "outputs": [
    {
     "name": "stdout",
     "output_type": "stream",
     "text": [
      "From 1240\n",
      "Pos: 620\n",
      "Neg: 620\n"
     ]
    }
   ],
   "source": [
    "#usar essa função para pegar um número igual de exeplos de cada classe\n",
    "count=RevCount(train)\n",
    "count.even_dist()\n",
    "\n",
    "train=count.reviews\n",
    "\n",
    "train_x=[x.text for x in train]\n",
    "train_y=[x.sentim for x in train]\n",
    "\n",
    "test_x=[x.text for x in test]\n",
    "test_y=[x.sentim for x in test]\n",
    "\n",
    "print('From',len(train_y))\n",
    "print('Pos:',train_y.count(sentiment.Pos))\n",
    "print('Neg:',train_y.count(sentiment.Neg))"
   ]
  },
  {
   "cell_type": "code",
   "execution_count": 7,
   "metadata": {},
   "outputs": [
    {
     "name": "stdout",
     "output_type": "stream",
     "text": [
      "Well written, story flows well.  Another Binchy hit. It's a shame she passed away as we lost a great writer. \n",
      " Positive\n"
     ]
    }
   ],
   "source": [
    "print(train[5].text,'\\n',train[5].sentim)"
   ]
  },
  {
   "cell_type": "markdown",
   "metadata": {},
   "source": [
    "# Bag of words vectorization"
   ]
  },
  {
   "cell_type": "code",
   "execution_count": 9,
   "metadata": {},
   "outputs": [],
   "source": [
    "from sklearn.feature_extraction.text import CountVectorizer, TfidfVectorizer\n",
    "\n",
    "\"\"\"O primeiro vetorizador atribui peso igual para todas as palavras\n",
    "Já o segundo atribui um peso inversamente proporcional á freq da palavra\n",
    "\"\"\"\n",
    "\n",
    "\n",
    "#Cria uma matriz que conta as instancias de cada palavra\n",
    "vectorizer = TfidfVectorizer(binary=True)\n",
    "\n",
    "#o fit ocorre apenas para criar a matriz de contagem (palavras novas nos dados de teste são ignoradas)\n",
    "train_x_vec=vectorizer.fit_transform(train_x)\n",
    "test_x_vec=vectorizer.transform(test_x)"
   ]
  },
  {
   "cell_type": "code",
   "execution_count": 10,
   "metadata": {},
   "outputs": [
    {
     "name": "stdout",
     "output_type": "stream",
     "text": [
      "[[0. 0. 0. ... 0. 0. 0.]\n",
      " [0. 0. 0. ... 0. 0. 0.]\n",
      " [0. 0. 0. ... 0. 0. 0.]\n",
      " ...\n",
      " [0. 0. 0. ... 0. 0. 0.]\n",
      " [0. 0. 0. ... 0. 0. 0.]\n",
      " [0. 0. 0. ... 0. 0. 0.]]\n"
     ]
    }
   ],
   "source": [
    "print(train_x_vec.toarray())"
   ]
  },
  {
   "cell_type": "markdown",
   "metadata": {},
   "source": [
    "# Classification"
   ]
  },
  {
   "cell_type": "markdown",
   "metadata": {},
   "source": [
    "### Support Vector Machines - Support Vector Classification"
   ]
  },
  {
   "cell_type": "code",
   "execution_count": 11,
   "metadata": {},
   "outputs": [
    {
     "data": {
      "text/plain": [
       "SVC(C=1.0, break_ties=False, cache_size=200, class_weight=None, coef0=0.0,\n",
       "    decision_function_shape='ovr', degree=3, gamma='scale', kernel='linear',\n",
       "    max_iter=-1, probability=False, random_state=None, shrinking=True,\n",
       "    tol=0.001, verbose=False)"
      ]
     },
     "execution_count": 11,
     "metadata": {},
     "output_type": "execute_result"
    }
   ],
   "source": [
    "from sklearn import svm\n",
    "\n",
    "#classificador\n",
    "clf_svm=svm.SVC(kernel='linear')\n",
    "#treina\n",
    "clf_svm.fit(train_x_vec,train_y)"
   ]
  },
  {
   "cell_type": "code",
   "execution_count": 12,
   "metadata": {},
   "outputs": [
    {
     "name": "stdout",
     "output_type": "stream",
     "text": [
      "Review:\n",
      " Westlake written, you will be surprised at who is the bad guy, or is he? Story will have you rooting for whoever is eliminating the scrum , off the streets \n",
      " Rating: Positive\n",
      "\n",
      " Predict: ['Negative']\n"
     ]
    }
   ],
   "source": [
    "r=4\n",
    "print('Review:\\n',test_x[r],'\\n Rating:',test_y[r])\n",
    "\n",
    "print('\\n Predict:',clf_svm.predict(test_x_vec[r]))"
   ]
  },
  {
   "cell_type": "code",
   "execution_count": 14,
   "metadata": {},
   "outputs": [
    {
     "name": "stdout",
     "output_type": "stream",
     "text": [
      "Precisão: 0.778\n",
      "De 500, erra 111 \n",
      "\n",
      "Pontuação média de cada avaliação:\n",
      " Positivo - Negativo\n",
      " [0.86925795 0.26490066]\n"
     ]
    }
   ],
   "source": [
    "#Precisão\n",
    "print('Precisão:',clf_svm.score(test_x_vec,test_y))\n",
    "\n",
    "y_pred = clf_svm.predict(test_x_vec)\n",
    "print(\"De %d, erra %d\" % (test_x_vec.shape[0], (test_y != y_pred).sum()),'\\n')\n",
    "\n",
    "print('Pontuação média de cada avaliação:\\n Positivo - Negativo\\n',f1_score(test_y,y_pred,average=None,labels=[sentiment.Pos,sentiment.Neg]))"
   ]
  },
  {
   "cell_type": "markdown",
   "metadata": {},
   "source": [
    "### Decision Tree"
   ]
  },
  {
   "cell_type": "code",
   "execution_count": 15,
   "metadata": {},
   "outputs": [
    {
     "data": {
      "text/plain": [
       "DecisionTreeClassifier(ccp_alpha=0.0, class_weight=None, criterion='gini',\n",
       "                       max_depth=None, max_features=None, max_leaf_nodes=None,\n",
       "                       min_impurity_decrease=0.0, min_impurity_split=None,\n",
       "                       min_samples_leaf=1, min_samples_split=2,\n",
       "                       min_weight_fraction_leaf=0.0, presort='deprecated',\n",
       "                       random_state=None, splitter='best')"
      ]
     },
     "execution_count": 15,
     "metadata": {},
     "output_type": "execute_result"
    }
   ],
   "source": [
    "from sklearn.tree import DecisionTreeClassifier\n",
    "\n",
    "\n",
    "#classificador\n",
    "clf_dec=DecisionTreeClassifier()\n",
    "#treina\n",
    "clf_dec.fit(train_x_vec,train_y)"
   ]
  },
  {
   "cell_type": "code",
   "execution_count": 16,
   "metadata": {},
   "outputs": [
    {
     "name": "stdout",
     "output_type": "stream",
     "text": [
      "Review:\n",
      " Westlake written, you will be surprised at who is the bad guy, or is he? Story will have you rooting for whoever is eliminating the scrum , off the streets \n",
      " Rating: Positive\n",
      "\n",
      " Predict: ['Positive']\n"
     ]
    }
   ],
   "source": [
    "r=4\n",
    "print('Review:\\n',test_x[r],'\\n Rating:',test_y[r])\n",
    "\n",
    "print('\\n Predict:',clf_dec.predict(test_x_vec[r]))"
   ]
  },
  {
   "cell_type": "code",
   "execution_count": 17,
   "metadata": {},
   "outputs": [
    {
     "name": "stdout",
     "output_type": "stream",
     "text": [
      "Precisão: 0.644\n",
      "De 500 pontos, erra 178 \n",
      "\n",
      "Pontuação média de cada avaliação:\n",
      " Positivo - Negativo\n",
      " [0.77411168 0.16037736]\n"
     ]
    }
   ],
   "source": [
    "#Precisão\n",
    "print('Precisão:',clf_dec.score(test_x_vec,test_y))\n",
    "\n",
    "y_pred = clf_dec.predict(test_x_vec)\n",
    "print(\"De %d pontos, erra %d\" % (test_x_vec.shape[0], (test_y != y_pred).sum()),'\\n')\n",
    "\n",
    "print('Pontuação média de cada avaliação:\\n Positivo - Negativo\\n',f1_score(test_y,y_pred,average=None,labels=[sentiment.Pos,sentiment.Neg]))"
   ]
  },
  {
   "cell_type": "markdown",
   "metadata": {},
   "source": [
    "### Naive Bayes "
   ]
  },
  {
   "cell_type": "code",
   "execution_count": 18,
   "metadata": {},
   "outputs": [
    {
     "data": {
      "text/plain": [
       "DecisionTreeClassifier(ccp_alpha=0.0, class_weight=None, criterion='gini',\n",
       "                       max_depth=None, max_features=None, max_leaf_nodes=None,\n",
       "                       min_impurity_decrease=0.0, min_impurity_split=None,\n",
       "                       min_samples_leaf=1, min_samples_split=2,\n",
       "                       min_weight_fraction_leaf=0.0, presort='deprecated',\n",
       "                       random_state=None, splitter='best')"
      ]
     },
     "execution_count": 18,
     "metadata": {},
     "output_type": "execute_result"
    }
   ],
   "source": [
    "from sklearn.naive_bayes import GaussianNB\n",
    "\n",
    "#classificador\n",
    "clf_gnb=DecisionTreeClassifier()\n",
    "#treina\n",
    "clf_gnb.fit(train_x_vec,train_y)"
   ]
  },
  {
   "cell_type": "code",
   "execution_count": 19,
   "metadata": {},
   "outputs": [
    {
     "name": "stdout",
     "output_type": "stream",
     "text": [
      "Review:\n",
      " A lot of info packed into this book.  I look forward to doing the diet.  I'll review it again with my results. \n",
      " Rating: Positive\n",
      "\n",
      " Predict: ['Positive']\n"
     ]
    }
   ],
   "source": [
    "r=90\n",
    "print('Review:\\n',test_x[r],'\\n Rating:',test_y[r])\n",
    "\n",
    "print('\\n Predict:',clf_dec.predict(test_x_vec[r]))"
   ]
  },
  {
   "cell_type": "code",
   "execution_count": 20,
   "metadata": {},
   "outputs": [
    {
     "name": "stdout",
     "output_type": "stream",
     "text": [
      "Precisão: 0.65\n",
      "De 500 pontos, erra 175 \n",
      "\n",
      "Pontuação média de cada avaliação:\n",
      " Positivo - Negativo\n",
      " [0.77820025 0.17061611]\n"
     ]
    }
   ],
   "source": [
    "#Precisão\n",
    "print('Precisão:',clf_gnb.score(test_x_vec,test_y))\n",
    "\n",
    "y_pred = clf_gnb.predict(test_x_vec)\n",
    "print(\"De %d pontos, erra %d\" % (test_x_vec.shape[0], (test_y != y_pred).sum()),'\\n')\n",
    "\n",
    "print('Pontuação média de cada avaliação:\\n Positivo - Negativo\\n',f1_score(test_y,y_pred,average=None,labels=[sentiment.Pos,sentiment.Neg]))"
   ]
  },
  {
   "cell_type": "markdown",
   "metadata": {},
   "source": [
    "### Logistic Regression "
   ]
  },
  {
   "cell_type": "code",
   "execution_count": 21,
   "metadata": {},
   "outputs": [
    {
     "data": {
      "text/plain": [
       "LogisticRegression(C=1.0, class_weight=None, dual=False, fit_intercept=True,\n",
       "                   intercept_scaling=1, l1_ratio=None, max_iter=200,\n",
       "                   multi_class='auto', n_jobs=None, penalty='l2',\n",
       "                   random_state=None, solver='lbfgs', tol=0.0001, verbose=0,\n",
       "                   warm_start=False)"
      ]
     },
     "execution_count": 21,
     "metadata": {},
     "output_type": "execute_result"
    }
   ],
   "source": [
    "from sklearn.linear_model import LogisticRegression\n",
    "\n",
    "#classificador\n",
    "clf_lr=LogisticRegression(max_iter=200)\n",
    "#treina\n",
    "clf_lr.fit(train_x_vec,train_y)"
   ]
  },
  {
   "cell_type": "code",
   "execution_count": 22,
   "metadata": {},
   "outputs": [
    {
     "name": "stdout",
     "output_type": "stream",
     "text": [
      "Review:\n",
      " Once again another suspenseful story about the Sullivan family. Couldn't put it down. Loved reading this wonderful love story. Can't wait to read the next book in the series. \n",
      " Rating: Positive\n",
      "\n",
      " Predict: ['Positive']\n"
     ]
    }
   ],
   "source": [
    "r=26\n",
    "print('Review:\\n',test_x[r],'\\n Rating:',test_y[r])\n",
    "\n",
    "print('\\n Predict:',clf_lr.predict(test_x_vec[r]))"
   ]
  },
  {
   "cell_type": "code",
   "execution_count": 23,
   "metadata": {},
   "outputs": [
    {
     "name": "stdout",
     "output_type": "stream",
     "text": [
      "Precisão: 0.796\n",
      "De 500 pontos, erra 102 \n",
      "\n",
      "Pontuação média de cada avaliação:\n",
      " Positivo - Negativo\n",
      " [0.88084112 0.29166667]\n"
     ]
    }
   ],
   "source": [
    "#Precisão\n",
    "print('Precisão:',clf_lr.score(test_x_vec,test_y))\n",
    "\n",
    "y_pred = clf_lr.predict(test_x_vec)\n",
    "print(\"De %d pontos, erra %d\" % (test_x_vec.shape[0], (test_y != y_pred).sum()),'\\n')\n",
    "\n",
    "print('Pontuação média de cada avaliação:\\n Positivo - Negativo\\n',f1_score(test_y,y_pred,average=None,labels=[sentiment.Pos,sentiment.Neg]))"
   ]
  },
  {
   "cell_type": "markdown",
   "metadata": {},
   "source": [
    "# Avaliação "
   ]
  },
  {
   "cell_type": "code",
   "execution_count": 24,
   "metadata": {},
   "outputs": [
    {
     "name": "stdout",
     "output_type": "stream",
     "text": [
      "SVM: ['Positive' 'Negative' 'Positive']\n",
      "Dec: ['Positive' 'Positive' 'Positive']\n",
      "GNB: ['Positive' 'Positive' 'Positive']\n",
      "Log: ['Negative' 'Negative' 'Positive']\n"
     ]
    }
   ],
   "source": [
    "#testes individuais\n",
    "test_set=['its horrible, shove it up your ass','ive seen better','its a super cool book']\n",
    "new_test=vectorizer.transform(test_set)\n",
    "\n",
    "\n",
    "print('SVM:',clf_svm.predict(new_test))\n",
    "print('Dec:',clf_dec.predict(new_test))\n",
    "print('GNB:',clf_gnb.predict(new_test))\n",
    "print('Log:',clf_lr.predict(new_test))"
   ]
  },
  {
   "cell_type": "code",
   "execution_count": 26,
   "metadata": {},
   "outputs": [
    {
     "name": "stdout",
     "output_type": "stream",
     "text": [
      "What i think of this: its horrible, shove it up your ass\n",
      "\n",
      " :(\n"
     ]
    }
   ],
   "source": [
    "i=0\n",
    "print('What i think of this:', test_set[i])\n",
    "if clf_lr.predict(new_test)[i]==\"Positive\":\n",
    "    print('\\n Glad you liked it!')\n",
    "else:\n",
    "    print('\\n :(')\n",
    "    "
   ]
  },
  {
   "cell_type": "markdown",
   "metadata": {},
   "source": [
    "# Tuning (grid search)"
   ]
  },
  {
   "cell_type": "code",
   "execution_count": 243,
   "metadata": {},
   "outputs": [
    {
     "data": {
      "text/plain": [
       "GridSearchCV(cv=5, error_score=nan,\n",
       "             estimator=SVC(C=1.0, break_ties=False, cache_size=200,\n",
       "                           class_weight=None, coef0=0.0,\n",
       "                           decision_function_shape='ovr', degree=3,\n",
       "                           gamma='scale', kernel='rbf', max_iter=-1,\n",
       "                           probability=False, random_state=None, shrinking=True,\n",
       "                           tol=0.001, verbose=False),\n",
       "             iid='deprecated', n_jobs=None,\n",
       "             param_grid={'C': (1, 4, 8, 16, 32), 'kernel': ('linear', 'rbf')},\n",
       "             pre_dispatch='2*n_jobs', refit=True, return_train_score=False,\n",
       "             scoring=None, verbose=0)"
      ]
     },
     "execution_count": 243,
     "metadata": {},
     "output_type": "execute_result"
    }
   ],
   "source": [
    "from sklearn.model_selection import GridSearchCV\n",
    "\n",
    "#parametros que queremos variar para buscar melhor performance\n",
    "parameters={'kernel':('linear', 'rbf'), 'C':(1,4,8,16,32)}\n",
    "\n",
    "svc = svm.SVC()\n",
    "\n",
    "#imput é um classificador, parametros, e iterações de 'cross validation'\n",
    "clf = GridSearchCV(svc,parameters,cv=5)\n",
    "clf.fit(train_x_vec,train_y)"
   ]
  },
  {
   "cell_type": "code",
   "execution_count": 29,
   "metadata": {},
   "outputs": [
    {
     "name": "stdout",
     "output_type": "stream",
     "text": [
      "Precisão: 0.784\n",
      "De 500 pontos, erra 108 \n",
      "\n",
      "Pontuação média de cada avaliação:\n",
      " Positivo - Negativo\n",
      " [0.87294118 0.28      ]\n"
     ]
    }
   ],
   "source": [
    "#Precisão\n",
    "print('Precisão:',clf.score(test_x_vec,test_y))\n",
    "\n",
    "y_pred = clf.predict(test_x_vec)\n",
    "print(\"De %d pontos, erra %d\" % (test_x_vec.shape[0], (test_y != y_pred).sum()),'\\n')\n",
    "\n",
    "print('Pontuação média de cada avaliação:\\n Positivo - Negativo\\n',f1_score(test_y,y_pred,average=None,labels=[sentiment.Pos,sentiment.Neg]))"
   ]
  },
  {
   "cell_type": "code",
   "execution_count": 30,
   "metadata": {},
   "outputs": [
    {
     "data": {
      "text/plain": [
       "<matplotlib.axes._subplots.AxesSubplot at 0x1e926ab0808>"
      ]
     },
     "execution_count": 30,
     "metadata": {},
     "output_type": "execute_result"
    },
    {
     "data": {
      "image/png": "[encoded data removed]",
      "text/plain": [
       "<Figure size 432x288 with 2 Axes>"
      ]
     },
     "metadata": {
      "needs_background": "light"
     },
     "output_type": "display_data"
    }
   ],
   "source": [
    "from sklearn.metrics import confusion_matrix\n",
    "import seaborn as sn\n",
    "import pandas as pd\n",
    "\n",
    "#Confusion matrix\n",
    "y_pred = clf.predict(test_x_vec)\n",
    "labels = [sentiment.Pos,sentiment.Neg]\n",
    "\n",
    "cm = confusion_matrix(test_y,y_pred,labels=labels)\n",
    "df_cm = pd.DataFrame(cm,index=labels, columns=labels)\n",
    "\n",
    "sn.heatmap(df_cm , annot=True, fmt='d')"
   ]
  },
  {
   "cell_type": "markdown",
   "metadata": {},
   "source": [
    "### Salvar"
   ]
  },
  {
   "cell_type": "code",
   "execution_count": 246,
   "metadata": {},
   "outputs": [],
   "source": [
    "import pickle\n",
    "\n",
    "with open('./Data Science/Amazon Review class.pkl','wb') as f:\n",
    "    pickle.dump(clf,f)"
   ]
  },
  {
   "cell_type": "markdown",
   "metadata": {},
   "source": [
    "### Carregar "
   ]
  },
  {
   "cell_type": "code",
   "execution_count": 28,
   "metadata": {},
   "outputs": [],
   "source": [
    "import pickle\n",
    "with open('./Data Science/Amazon Review class.pkl','rb') as f:\n",
    "    clf=pickle.load(f)"
   ]
  },
  {
   "cell_type": "code",
   "execution_count": null,
   "metadata": {},
   "outputs": [],
   "source": []
  }
 ],
 "metadata": {
  "kernelspec": {
   "display_name": "Python 3",
   "language": "python",
   "name": "python3"
  },
  "language_info": {
   "codemirror_mode": {
    "name": "ipython",
    "version": 3
   },
   "file_extension": ".py",
   "mimetype": "text/x-python",
   "name": "python",
   "nbconvert_exporter": "python",
   "pygments_lexer": "ipython3",
   "version": "3.7.6"
  }
 },
 "nbformat": 4,
 "nbformat_minor": 4
}
